{
 "cells": [
  {
   "cell_type": "code",
   "execution_count": 20,
   "metadata": {},
   "outputs": [],
   "source": [
    "import pandas as pd\n",
    "import tensorflow_hub as hub\n",
    "import tensorflow as tf\n",
    "import tensorflow_text as tf_text\n",
    "import numpy as np\n",
    "import os\n",
    "import tensorflow_data_validation as tfdv"
   ]
  },
  {
   "cell_type": "code",
   "execution_count": 4,
   "metadata": {},
   "outputs": [
    {
     "name": "stdout",
     "output_type": "stream",
     "text": [
      "WARNING:tensorflow:Inconsistent references when loading the checkpoint into this object graph. Either the Trackable object references in the Python program have changed in an incompatible way, or the checkpoint was generated in an incompatible program.\n",
      "\n",
      "Two checkpoint references resolved to different objects (<tensorflow.python.keras.saving.saved_model.load.TensorFlowTransform>TransformFeaturesLayer object at 0x7f8d88d60450> and <tensorflow.python.keras.engine.input_layer.InputLayer object at 0x7f8d88d60910>).\n"
     ]
    }
   ],
   "source": [
    "model_dir = 'gs://metadata-bucket-sky/new_model/serving_test'\n",
    "loaded_model = tf.keras.models.load_model(model_dir)"
   ]
  },
  {
   "cell_type": "code",
   "execution_count": 237,
   "metadata": {},
   "outputs": [],
   "source": [
    "test_data = pd.read_parquet('gs://metadata-bucket-sky/series_data.parquet')\n",
    "test_data_movies = pd.read_parquet('gs://metadata-bucket-sky/movie_data.parquet')\n",
    "label_vocab = pd.read_csv(os.path.join(model_dir, 'assets/tags'), header=None)"
   ]
  },
  {
   "cell_type": "code",
   "execution_count": 225,
   "metadata": {},
   "outputs": [],
   "source": [
    "def display_random_prediction(test_data, model, label_vocab, idx=None):\n",
    "    if idx is None:\n",
    "        idx = np.random.choice(len(test_data))\n",
    "        \n",
    "    actual = test_data.iloc[idx]\n",
    "    \n",
    "    print('TITLE: ', actual['program_title'])\n",
    "    print('SYNOPSIS: ', actual['program_longsynopsis'], '\\n')\n",
    "    \n",
    "    labels = actual[3:][actual[3:] > 0]\n",
    "    print('LABEL: ', labels.index[0], '\\n')\n",
    "    \n",
    "    predicted = model.predict([actual['program_longsynopsis']])\n",
    "    display(pd.Series(predicted[0], index=list(np.hstack(label_vocab.values))).sort_values(ascending=False)[:5])\n",
    "    "
   ]
  },
  {
   "cell_type": "code",
   "execution_count": 246,
   "metadata": {},
   "outputs": [
    {
     "name": "stdout",
     "output_type": "stream",
     "text": [
      "TITLE:  IOC Session\n",
      "SYNOPSIS:  Signing of the candidate city contract and joint press conference of the IOC and the elected host city for the Olympic Winter Games 2026. Announcement show for the election of the candidate city for the Olympic Winter Games 2026. Includes press conferences and news announcements from the IOC. Candidate cities present the pros of hosting the 2026 Oympics. \n",
      "\n",
      "LABEL:  Sports \n",
      "\n"
     ]
    },
    {
     "data": {
      "text/plain": [
       "Sports              0.956708\n",
       "Olympics            0.925684\n",
       "Sports non-event    0.916772\n",
       "News                0.037099\n",
       "Local               0.034975\n",
       "dtype: float32"
      ]
     },
     "metadata": {},
     "output_type": "display_data"
    }
   ],
   "source": [
    "display_random_prediction(test_data, loaded_model, label_vocab)"
   ]
  },
  {
   "cell_type": "code",
   "execution_count": 244,
   "metadata": {},
   "outputs": [
    {
     "name": "stdout",
     "output_type": "stream",
     "text": [
      "TITLE:  Mystery Road\n",
      "SYNOPSIS:  An aboriginal detective returns to the Outback to investigate the murder of a teenage girl. \n",
      "\n",
      "LABEL:  Crime \n",
      "\n"
     ]
    },
    {
     "data": {
      "text/plain": [
       "Mystery               0.363583\n",
       "Thriller              0.352428\n",
       "Drama                 0.294179\n",
       "Action & Adventure    0.262419\n",
       "Horror                0.192390\n",
       "dtype: float32"
      ]
     },
     "metadata": {},
     "output_type": "display_data"
    }
   ],
   "source": [
    "display_random_prediction(test_data_movies, loaded_model, label_vocab)"
   ]
  },
  {
   "cell_type": "markdown",
   "metadata": {},
   "source": [
    "---\n",
    "\n",
    "# Alternative Test Data"
   ]
  },
  {
   "cell_type": "code",
   "execution_count": 229,
   "metadata": {},
   "outputs": [],
   "source": [
    "alt_test_data = pd.read_parquet('gs://metadata-bucket-sky/test_data.parquet')"
   ]
  },
  {
   "cell_type": "code",
   "execution_count": 230,
   "metadata": {},
   "outputs": [],
   "source": [
    "def display_random_prediction_alt(test_data, model, label_vocab, idx=None):\n",
    "    if idx is None:\n",
    "        idx = np.random.choice(len(test_data))\n",
    "        \n",
    "    actual = test_data.iloc[idx]\n",
    "    \n",
    "    print('SYNOPSIS: ', actual['synopsis'][:512], '\\n')\n",
    "    print('LABELS: ', list(actual['labels']))\n",
    "    print('TAGS: ', list(actual['tags']), '\\n')\n",
    "    \n",
    "    predicted = model.predict([actual['synopsis']])\n",
    "    display(pd.Series(predicted[0], index=list(np.hstack(label_vocab.values))).sort_values(ascending=False)[:5])"
   ]
  },
  {
   "cell_type": "code",
   "execution_count": 235,
   "metadata": {},
   "outputs": [
    {
     "name": "stdout",
     "output_type": "stream",
     "text": [
      "SYNOPSIS:  Frasier is devastated when he discovers that his learned mentor has been dating Carla. When a suspicious spot appears on Norm's chest X-ray, he decides to fulfill a dream of sailing around the world. The Cheers gang takes on a rival bar in a war of outrageous pranks; the gang becomes paranoid of all strangers entering the bar, including Boston Red Sox third baseman Wade Boggs. The Cheers gang takes on a rival bar in a war of outrageous pranks; the gang becomes paranoid of all strangers entering the bar, inc \n",
      "\n",
      "LABELS:  ['teens (ages 13-14)', 'Comedy', 'Drama', 'Holiday', 'Romance']\n",
      "TAGS:  ['Bartender', 'Waitress', 'teens (ages 13-14)', 'Boston', 'Witty', 'Comedy', 'Amusing', 'Bar', 'Sitcom', 'Patron', '1990s', 'TV', '1980s', 'Drama', \"Valentine's Day\", 'Romantic comedy', 'Single life', 'Holiday', 'Romance', 'Halloween', 'Workplace romance', 'Opposites attract', '20th century'] \n",
      "\n"
     ]
    },
    {
     "data": {
      "text/plain": [
       "Sitcom                    0.995261\n",
       "Comedy                    0.985245\n",
       "Teens                     0.584792\n",
       "teens (ages 13-14)        0.269389\n",
       "older teens (ages 15+)    0.164545\n",
       "dtype: float32"
      ]
     },
     "metadata": {},
     "output_type": "display_data"
    }
   ],
   "source": [
    "display_random_prediction_alt(alt_test_data, loaded_model, label_vocab)"
   ]
  },
  {
   "cell_type": "markdown",
   "metadata": {},
   "source": [
    "---\n",
    "\n",
    "# Below we can just type in some random text!"
   ]
  },
  {
   "cell_type": "code",
   "execution_count": 224,
   "metadata": {},
   "outputs": [
    {
     "data": {
      "text/plain": [
       "Local             0.928351\n",
       "Public Affairs    0.802196\n",
       "Educational       0.032287\n",
       "News              0.029285\n",
       "Special           0.028663\n",
       "dtype: float32"
      ]
     },
     "metadata": {},
     "output_type": "display_data"
    }
   ],
   "source": [
    "predicted = loaded_model.predict(['Improving education in California. Barry Munitz details the goals and results of Governor Gray Davis special legislative session on education. Improving public education in California.'])\n",
    "display(pd.Series(predicted[0], index=list(np.hstack(label_vocab.values))).sort_values(ascending=False)[:5])"
   ]
  }
 ],
 "metadata": {
  "environment": {
   "name": "tf2-gpu.2-3.m61",
   "type": "gcloud",
   "uri": "gcr.io/deeplearning-platform-release/tf2-gpu.2-3:m61"
  },
  "kernelspec": {
   "display_name": "Python 3",
   "language": "python",
   "name": "python3"
  },
  "language_info": {
   "codemirror_mode": {
    "name": "ipython",
    "version": 3
   },
   "file_extension": ".py",
   "mimetype": "text/x-python",
   "name": "python",
   "nbconvert_exporter": "python",
   "pygments_lexer": "ipython3",
   "version": "3.7.9"
  }
 },
 "nbformat": 4,
 "nbformat_minor": 4
}
